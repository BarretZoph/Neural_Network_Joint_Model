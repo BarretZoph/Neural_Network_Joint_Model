{
 "cells": [
  {
   "cell_type": "code",
   "execution_count": 1,
   "metadata": {
    "collapsed": true
   },
   "outputs": [],
   "source": [
    "#NNJM"
   ]
  },
  {
   "cell_type": "code",
   "execution_count": 2,
   "metadata": {
    "collapsed": false
   },
   "outputs": [],
   "source": [
    "#Import statements\n",
    "import tensorflow as tf\n",
    "import numpy as np\n",
    "import matplotlib.pyplot as plt\n",
    "%matplotlib inline"
   ]
  },
  {
   "cell_type": "code",
   "execution_count": 11,
   "metadata": {
    "collapsed": true
   },
   "outputs": [],
   "source": [
    "#Parameters for the model\n",
    "params = {}\n",
    "params['minibatch'] = 50\n",
    "params['embedding-size'] = 100\n",
    "params['hiddenstate-size'] = 100\n",
    "params['source-vocab'] = 500\n",
    "params['target-vocab'] = 600\n",
    "params['datatype'] = tf.float32\n",
    "params['init-method'] = 'uniform'\n",
    "params['init-range'] = 0.01\n",
    "params['source-window'] = 11\n",
    "params['target-window'] = 4\n",
    "params['use-char'] = False\n",
    "params['seed'] = 1"
   ]
  },
  {
   "cell_type": "code",
   "execution_count": 4,
   "metadata": {
    "collapsed": false
   },
   "outputs": [],
   "source": [
    "#Interactive session\n",
    "sess = tf.InteractiveSession()"
   ]
  },
  {
   "cell_type": "code",
   "execution_count": null,
   "metadata": {
    "collapsed": true
   },
   "outputs": [],
   "source": [
    "#Process the data, get the source-vocab and target-vocab variables\n"
   ]
  },
  {
   "cell_type": "code",
   "execution_count": 14,
   "metadata": {
    "collapsed": false
   },
   "outputs": [],
   "source": [
    "#Place holders for input and output data, first index is the minibatch size\n",
    "\n",
    "#For the input the second dimension will be passed a\n",
    "#     vector of size minibatch x (params['source-window']+params['target-window'])\n",
    "input_indicies = tf.placeholder(tf.int32, shape=[None, params['source-window']+params['target-window']])\n",
    "\n",
    "#The output will be given a minibatch x 1 matrix of correct indicies\n",
    "correct_output = tf.placeholder(tf.int32,shape=[None,1])"
   ]
  },
  {
   "cell_type": "code",
   "execution_count": 15,
   "metadata": {
    "collapsed": false
   },
   "outputs": [],
   "source": [
    "def param_init(params,shape=None,name=None,datatype=None):\n",
    "    if datatype == None:\n",
    "        datatype = params['datatype']\n",
    "    if params['init-method'] == 'uniform':\n",
    "        return tf.random_uniform(shape, minval=-1*params['init-range'],maxval=params['init-range'],\\\n",
    "                    dtype=datatype, seed=params['seed'], name=name)\n",
    "    else:\n",
    "        print \"ERROR this init-method has not been created yet\""
   ]
  },
  {
   "cell_type": "code",
   "execution_count": 16,
   "metadata": {
    "collapsed": false
   },
   "outputs": [],
   "source": [
    "#Parameters for the source and target embeddings\n",
    "source_emb_matrix = tf.Variable(param_init(params,shape=[],name='src-emb'))\n",
    "target_emb_matrix = tf.Variable(param_init(params,shape=[],name='tgt-emb'))"
   ]
  },
  {
   "cell_type": "code",
   "execution_count": null,
   "metadata": {
    "collapsed": true
   },
   "outputs": [],
   "source": []
  }
 ],
 "metadata": {
  "kernelspec": {
   "display_name": "Python 2",
   "language": "python",
   "name": "python2"
  },
  "language_info": {
   "codemirror_mode": {
    "name": "ipython",
    "version": 2
   },
   "file_extension": ".py",
   "mimetype": "text/x-python",
   "name": "python",
   "nbconvert_exporter": "python",
   "pygments_lexer": "ipython2",
   "version": "2.7.11"
  }
 },
 "nbformat": 4,
 "nbformat_minor": 0
}
